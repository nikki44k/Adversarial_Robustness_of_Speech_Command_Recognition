{
  "nbformat": 4,
  "nbformat_minor": 0,
  "metadata": {
    "colab": {
      "provenance": [],
      "gpuType": "T4"
    },
    "kernelspec": {
      "name": "python3",
      "display_name": "Python 3"
    },
    "language_info": {
      "name": "python"
    },
    "accelerator": "GPU"
  },
  "cells": [
    {
      "cell_type": "markdown",
      "source": [
        "# core “baseline training” pipeline for FSDD"
      ],
      "metadata": {
        "id": "sCP9RIjd6dYc"
      }
    },
    {
      "cell_type": "markdown",
      "source": [
        "This notebook takes your raw FSDD recordings, spins up a stronger 1D CNN baseline (with augmentation, mixed-precision, and LR scheduling), and measures how well it classifies the 10 spoken digits."
      ],
      "metadata": {
        "id": "-dHwCnZA6mIK"
      }
    },
    {
      "cell_type": "code",
      "source": [
        "from google.colab import drive\n",
        "drive.mount('/content/drive')"
      ],
      "metadata": {
        "colab": {
          "base_uri": "https://localhost:8080/"
        },
        "id": "AbLR3nQvgMjy",
        "outputId": "b22523cb-57dc-48da-abcb-01ff9d5629dc"
      },
      "execution_count": 1,
      "outputs": [
        {
          "output_type": "stream",
          "name": "stdout",
          "text": [
            "Drive already mounted at /content/drive; to attempt to forcibly remount, call drive.mount(\"/content/drive\", force_remount=True).\n"
          ]
        }
      ]
    },
    {
      "cell_type": "code",
      "execution_count": 2,
      "metadata": {
        "id": "cMFuEMdkvQpX"
      },
      "outputs": [],
      "source": [
        "# installs & imports\n",
        "!pip install torch torchvision librosa --quiet\n",
        "\n",
        "import os, glob, sys\n",
        "import numpy as np\n",
        "import torch\n",
        "import torch.nn as nn\n",
        "import torch.optim as optim\n",
        "import matplotlib.pyplot as plt\n",
        "import torch.backends.cudnn as cudnn\n",
        "from torch.utils.data import Dataset, DataLoader, random_split\n",
        "from torch.cuda.amp import autocast, GradScaler\n",
        "from torch.optim.lr_scheduler import StepLR\n",
        "\n",
        "sys.path.append('/content/drive/MyDrive/speech_command_adversarial/utils')\n",
        "from audio_utils import load_audio, preprocess_audio\n",
        "\n",
        "cudnn.benchmark = True\n",
        "device = torch.device('cuda' if torch.cuda.is_available() else 'cpu')"
      ]
    },
    {
      "cell_type": "code",
      "source": [
        "# Big 1D-CNN Model Definition\n",
        "class Conv1DSpeechBig(nn.Module):\n",
        "    def __init__(self, n_classes=10):\n",
        "        super().__init__()\n",
        "        self.net = nn.Sequential(\n",
        "            nn.Conv1d(1, 16, kernel_size=9, stride=2, padding=4),\n",
        "            nn.BatchNorm1d(16),\n",
        "            nn.ReLU(),\n",
        "            nn.Conv1d(16, 32, kernel_size=9, stride=2, padding=4),\n",
        "            nn.BatchNorm1d(32),\n",
        "            nn.ReLU(),\n",
        "            nn.Conv1d(32, 64, kernel_size=9, stride=2, padding=4),\n",
        "            nn.BatchNorm1d(64),\n",
        "            nn.ReLU(),\n",
        "            nn.AdaptiveAvgPool1d(1),\n",
        "            nn.Flatten(),\n",
        "            nn.Dropout(0.2),\n",
        "            nn.Linear(64, n_classes)\n",
        "        )\n",
        "\n",
        "    def forward(self, x):\n",
        "        return self.net(x)"
      ],
      "metadata": {
        "id": "Xab-N83lzoJT"
      },
      "execution_count": 3,
      "outputs": []
    },
    {
      "cell_type": "code",
      "source": [
        "# FSDD Dataset with Augmentation & float32 cast\n",
        "class FSDDDataset(Dataset):\n",
        "    def __init__(self, wav_paths, labels, target_sr=8000, duration=1.0):\n",
        "        self.paths     = wav_paths\n",
        "        self.labels    = labels\n",
        "        self.target_sr = target_sr\n",
        "        self.duration  = duration\n",
        "\n",
        "    def __len__(self):\n",
        "        return len(self.paths)\n",
        "\n",
        "    def __getitem__(self, idx):\n",
        "        wav, sr = load_audio(self.paths[idx], sr=None)\n",
        "        x = preprocess_audio(wav, sr,\n",
        "                             target_sr=self.target_sr,\n",
        "                             duration=self.duration)\n",
        "\n",
        "        # --- Data augmentation ---\n",
        "        if np.random.rand() < 0.5:\n",
        "            import librosa\n",
        "            x = librosa.effects.pitch_shift(\n",
        "                y=x, sr=self.target_sr,\n",
        "                n_steps=np.random.uniform(-2,2)\n",
        "            )\n",
        "        x = x + 0.001 * np.random.randn(*x.shape)\n",
        "        x = np.clip(x, -1, 1)\n",
        "\n",
        "        # --- Force float32 to avoid AMP mismatch ---\n",
        "        x = x.astype(np.float32)\n",
        "\n",
        "        return torch.from_numpy(x).unsqueeze(0), self.labels[idx]"
      ],
      "metadata": {
        "id": "aWwe65knvVDp"
      },
      "execution_count": 4,
      "outputs": []
    },
    {
      "cell_type": "code",
      "source": [
        "# load & split\n",
        "wav_paths = sorted(glob.glob(\n",
        "    '/content/drive/MyDrive/speech_command_adversarial/data/fsdd/recordings/*.wav'\n",
        "))\n",
        "labels  = [int(os.path.basename(p)[0]) for p in wav_paths]\n",
        "dataset = FSDDDataset(wav_paths, labels)\n",
        "\n",
        "train_size = int(0.8 * len(dataset))\n",
        "test_size  = len(dataset) - train_size\n",
        "train_ds, test_ds = random_split(\n",
        "    dataset,\n",
        "    [train_size, test_size],\n",
        "    generator=torch.Generator().manual_seed(42)\n",
        ")\n",
        "\n",
        "train_loader = DataLoader(\n",
        "    train_ds, batch_size=64, shuffle=True,\n",
        "    num_workers=2, pin_memory=True\n",
        ")\n",
        "test_loader = DataLoader(\n",
        "    test_ds, batch_size=64, shuffle=False,\n",
        "    num_workers=2, pin_memory=True\n",
        ")"
      ],
      "metadata": {
        "id": "p4poaHQfwX-u"
      },
      "execution_count": 5,
      "outputs": []
    },
    {
      "cell_type": "code",
      "source": [
        "# Quick sanity check\n",
        "x_batch, y_batch = next(iter(train_loader))\n",
        "print(\"Batch shapes:\", x_batch.shape, y_batch.shape)  # → [B,1,8000], [B]\n",
        "plt.plot(x_batch[0,0].cpu().numpy()); plt.title(f\"Label {y_batch[0]}\"); plt.show()"
      ],
      "metadata": {
        "colab": {
          "base_uri": "https://localhost:8080/",
          "height": 469
        },
        "id": "qOwMREdU4RKb",
        "outputId": "86b2f0e0-fe10-4c6d-fdb0-8f738a9fa775"
      },
      "execution_count": 6,
      "outputs": [
        {
          "output_type": "stream",
          "name": "stdout",
          "text": [
            "Batch shapes: torch.Size([64, 1, 8000]) torch.Size([64])\n"
          ]
        },
        {
          "output_type": "display_data",
          "data": {
            "text/plain": [
              "<Figure size 640x480 with 1 Axes>"
            ],
            "image/png": "[encoded data removed]"
          },
          "metadata": {}
        }
      ]
    },
    {
      "cell_type": "code",
      "source": [
        "# Instantiate Model, Optimizer, Scheduler, Loss, AMP\n",
        "model     = Conv1DSpeechBig(n_classes=10).to(device)\n",
        "opt       = optim.Adam(model.parameters(), lr=1e-3)\n",
        "scheduler = StepLR(opt, step_size=5, gamma=0.5)\n",
        "crit      = nn.CrossEntropyLoss()\n",
        "scaler    = GradScaler()\n",
        "n_epochs  = 20"
      ],
      "metadata": {
        "colab": {
          "base_uri": "https://localhost:8080/"
        },
        "id": "Z2Al0KMQw3N-",
        "outputId": "eecd924f-4edb-4163-92fa-6d5869bdf1ca"
      },
      "execution_count": 7,
      "outputs": [
        {
          "output_type": "stream",
          "name": "stderr",
          "text": [
            "<ipython-input-7-c5a79f8692a7>:6: FutureWarning: `torch.cuda.amp.GradScaler(args...)` is deprecated. Please use `torch.amp.GradScaler('cuda', args...)` instead.\n",
            "  scaler    = GradScaler()\n"
          ]
        }
      ]
    },
    {
      "cell_type": "code",
      "source": [
        "# Training Loop\n",
        "for epoch in range(n_epochs):\n",
        "    model.train()\n",
        "    total_loss = 0.0\n",
        "\n",
        "    for x, y in train_loader:\n",
        "        x = x.to(device, non_blocking=True).float()\n",
        "        y = y.to(device, non_blocking=True)\n",
        "\n",
        "        opt.zero_grad()\n",
        "        with autocast():\n",
        "            logits = model(x)\n",
        "            loss   = crit(logits, y)\n",
        "\n",
        "        scaler.scale(loss).backward()\n",
        "        scaler.step(opt)\n",
        "        scaler.update()\n",
        "\n",
        "        total_loss += loss.item()\n",
        "\n",
        "    scheduler.step()\n",
        "    avg_loss = total_loss / len(train_loader)\n",
        "    lr = scheduler.get_last_lr()[0]\n",
        "    print(f\"Epoch {epoch:02d}  loss: {avg_loss:.4f}  LR: {lr:.1e}\")"
      ],
      "metadata": {
        "colab": {
          "base_uri": "https://localhost:8080/"
        },
        "id": "Eiodx_Yr4Vcp",
        "outputId": "c7836b75-1c09-492f-a660-df086c6f8544"
      },
      "execution_count": 8,
      "outputs": [
        {
          "output_type": "stream",
          "name": "stderr",
          "text": [
            "<ipython-input-8-8f310a04c070>:11: FutureWarning: `torch.cuda.amp.autocast(args...)` is deprecated. Please use `torch.amp.autocast('cuda', args...)` instead.\n",
            "  with autocast():\n"
          ]
        },
        {
          "output_type": "stream",
          "name": "stdout",
          "text": [
            "Epoch 00  loss: 2.1430  LR: 1.0e-03\n",
            "Epoch 01  loss: 1.8711  LR: 1.0e-03\n",
            "Epoch 02  loss: 1.6675  LR: 1.0e-03\n",
            "Epoch 03  loss: 1.4956  LR: 1.0e-03\n",
            "Epoch 04  loss: 1.3366  LR: 5.0e-04\n",
            "Epoch 05  loss: 1.2150  LR: 5.0e-04\n",
            "Epoch 06  loss: 1.1571  LR: 5.0e-04\n",
            "Epoch 07  loss: 1.0988  LR: 5.0e-04\n",
            "Epoch 08  loss: 1.0429  LR: 5.0e-04\n",
            "Epoch 09  loss: 0.9938  LR: 2.5e-04\n",
            "Epoch 10  loss: 0.9619  LR: 2.5e-04\n",
            "Epoch 11  loss: 0.9327  LR: 2.5e-04\n",
            "Epoch 12  loss: 0.9198  LR: 2.5e-04\n",
            "Epoch 13  loss: 0.9023  LR: 2.5e-04\n",
            "Epoch 14  loss: 0.8846  LR: 1.3e-04\n",
            "Epoch 15  loss: 0.8676  LR: 1.3e-04\n",
            "Epoch 16  loss: 0.8409  LR: 1.3e-04\n",
            "Epoch 17  loss: 0.8506  LR: 1.3e-04\n",
            "Epoch 18  loss: 0.8378  LR: 1.3e-04\n",
            "Epoch 19  loss: 0.8292  LR: 6.3e-05\n"
          ]
        }
      ]
    },
    {
      "cell_type": "code",
      "source": [
        "# Evaluation on Test Set\n",
        "model.eval()\n",
        "correct, total = 0, 0\n",
        "\n",
        "with torch.no_grad():\n",
        "    for x, y in test_loader:\n",
        "        x = x.to(device, non_blocking=True).float()\n",
        "        y = y.to(device, non_blocking=True)\n",
        "        preds = model(x).argmax(dim=1)\n",
        "        correct += (preds == y).sum().item()\n",
        "        total   += y.size(0)\n",
        "\n",
        "print(f\"Test accuracy: {correct/total:.4f}\")"
      ],
      "metadata": {
        "colab": {
          "base_uri": "https://localhost:8080/"
        },
        "id": "TJAdf9xK0frC",
        "outputId": "c4138d78-40a1-49f6-f4b7-36ad7a7aecc4"
      },
      "execution_count": 9,
      "outputs": [
        {
          "output_type": "stream",
          "name": "stdout",
          "text": [
            "Test accuracy: 0.8383\n"
          ]
        }
      ]
    },
    {
      "cell_type": "markdown",
      "source": [
        "Hitting ~83.8 % is exactly in the ballpark you want for a solid FSDD baseline. That tells us your Conv1D-Big model plus augmentation and AMP/scheduler tweaks are doing their job."
      ],
      "metadata": {
        "id": "oLiM52oE6w5D"
      }
    },
    {
      "cell_type": "code",
      "source": [
        "save_path = '/content/drive/MyDrive/speech_command_adversarial/fsdd_baseline.pth'\n",
        "torch.save(model.state_dict(), save_path)\n",
        "print(\"Saved baseline model to:\", save_path)"
      ],
      "metadata": {
        "colab": {
          "base_uri": "https://localhost:8080/"
        },
        "id": "Eeg78ZJYgAQV",
        "outputId": "cc9c276f-645b-4170-c2e3-213de0ed17bc"
      },
      "execution_count": 18,
      "outputs": [
        {
          "output_type": "stream",
          "name": "stdout",
          "text": [
            "Saved baseline model to: /content/drive/MyDrive/speech_command_adversarial/fsdd_baseline.pth\n"
          ]
        }
      ]
    }
  ]
}