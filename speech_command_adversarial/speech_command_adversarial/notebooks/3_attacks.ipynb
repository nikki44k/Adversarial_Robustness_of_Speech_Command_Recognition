{
  "nbformat": 4,
  "nbformat_minor": 0,
  "metadata": {
    "colab": {
      "provenance": [],
      "gpuType": "T4"
    },
    "kernelspec": {
      "name": "python3",
      "display_name": "Python 3"
    },
    "language_info": {
      "name": "python"
    },
    "accelerator": "GPU"
  },
  "cells": [
    {
      "cell_type": "markdown",
      "source": [
        "\n",
        "# This notebook implements and evaluates six distinct adversarial attacks against our 1D-CNN classifier trained on the Free Spoken Digit Dataset (FSDD)"
      ],
      "metadata": {
        "id": "cHvyANp7LZGr"
      }
    },
    {
      "cell_type": "markdown",
      "source": [
        "It is structured into the following logical sections:\n",
        "\n",
        "**Environment Setup**\n",
        "\n",
        "Installs required Python packages (torch, librosa), imports core libraries, and mounts Google Drive.\n",
        "\n",
        "Defines device selection (CPU vs. GPU) and loads our Conv1DSpeech model class.\n",
        "\n",
        "**Model Loading**\n",
        "\n",
        "Instantiates the saved baseline model (fsdd_baseline.pth) with n_classes=10.\n",
        "\n",
        "Loads the checkpoint, ensuring layer shapes match exactly the training architecture.\n",
        "\n",
        "Puts the model into evaluation mode for inference.\n",
        "\n",
        "**Data Preparation**\n",
        "\n",
        "Rebuilds the FSDD Dataset and DataLoader for the test split (80/20 train/test).\n",
        "\n",
        "Preprocesses audio on-the-fly: resampling to 8 kHz, 1 s trimming/padding, and amplitude normalization.\n",
        "\n",
        "Pulls a single minibatch of 8 examples (x_adv_in, y_adv_in) to use in the attack demos.\n",
        "\n",
        "**Attack Implementations**\n",
        "\n",
        "\n",
        "\n",
        "*   **SPSA:** Black-box gradient approximation via finite differences and sign‐updates.\n",
        "*   **GenAttack:** A simple evolutionary algorithm that mutates and selects top performers.\n",
        "*   **SimBA:** Iteratively flips individual time‐samples to increase per‐sample loss.\n",
        "*   **Spatial Transform:** Applies pitch-shifting and time-stretching distortions via librosa.\n",
        "*   **Psychoacoustic Masking:** Injects Gaussian noise at a target SNR to confuse the classifier.\n",
        "*   **Hidden-Voice:** Conceals a low-amplitude “phrase” mix inside each test clip.\n",
        "\n",
        "\n",
        "**Adversarial Generation**\n",
        "\n",
        "Applies each attack to the same small batch (8 × 1 × 8000 tensors).\n",
        "\n",
        "Stores the perturbed batches (x_spsa, x_gen, …, x_hide), all with identical shapes.\n",
        "\n",
        "**Evaluation**\n",
        "\n",
        "Computes Top-1 accuracy of the model on each adversarial batch (and on the clean batch).\n",
        "\n",
        "Calculates per-sample Signal-to-Noise Ratio (SNR) and reports average stealth level for each attack.\n",
        "\n",
        "Tabulates results in a Markdown table, then plots Accuracy vs. Mean SNR to visualize the tradeoff between attack strength and perceptual stealth.\n",
        "\n",
        "**Why this notebook matters**\n",
        "\n",
        "It demonstrates a **wide spectrum of black-box and psychoacoustic attack strategies** in the audio domain.\n",
        "\n",
        "By using purely PyTorch+NumPy code, it remains robust to package‐version changes and easy to inspect.\n",
        "\n",
        "The final Accuracy-vs-SNR plot succinctly highlights which attacks are most effective yet least perceptible, setting the stage for the downstream defenses in 4_defenses.ipynb."
      ],
      "metadata": {
        "id": "0d6Z5wk9LPYj"
      }
    },
    {
      "cell_type": "code",
      "source": [
        "from google.colab import drive\n",
        "drive.mount('/content/drive')"
      ],
      "metadata": {
        "colab": {
          "base_uri": "https://localhost:8080/"
        },
        "id": "r0o7rTMd69Gj",
        "outputId": "b7ff202f-e21f-4895-9f17-4138b221e178"
      },
      "execution_count": 1,
      "outputs": [
        {
          "output_type": "stream",
          "name": "stdout",
          "text": [
            "Drive already mounted at /content/drive; to attempt to forcibly remount, call drive.mount(\"/content/drive\", force_remount=True).\n"
          ]
        }
      ]
    },
    {
      "cell_type": "code",
      "source": [
        "# Installs & Imports\n",
        "!pip install --quiet torch librosa\n",
        "\n",
        "import torch\n",
        "import torch.nn as nn\n",
        "import torch.optim as optim\n",
        "import numpy as np\n",
        "import librosa\n",
        "import random\n",
        "import sys\n",
        "\n",
        "device = 'cuda' if torch.cuda.is_available() else 'cpu'\n",
        "sys.path.append('/content/drive/MyDrive/speech_command_adversarial')\n",
        "from models import Conv1DSpeech  # your 1D-CNN model\n",
        "criterion = nn.CrossEntropyLoss()"
      ],
      "metadata": {
        "id": "8unCIRfwdyJl"
      },
      "execution_count": 2,
      "outputs": []
    },
    {
      "cell_type": "code",
      "source": [
        "loss_none = nn.CrossEntropyLoss(reduction='none')"
      ],
      "metadata": {
        "id": "6JfDoNBhEuOC"
      },
      "execution_count": 3,
      "outputs": []
    },
    {
      "cell_type": "code",
      "source": [
        "# Audio Preprocessing Helper\n",
        "def preprocess_audio(wav, orig_sr, target_sr=8000, duration=1.0):\n",
        "    \"\"\"\n",
        "    Resample to 8 kHz, pad/trim to 1s, normalize to [-1,1].\n",
        "    \"\"\"\n",
        "    wav = librosa.resample(wav, orig_sr, target_sr)\n",
        "    L = int(target_sr * duration)\n",
        "    if len(wav) < L:\n",
        "        wav = np.pad(wav, (0, L - len(wav)))\n",
        "    else:\n",
        "        wav = wav[:L]\n",
        "    wav = wav / (np.max(np.abs(wav)) + 1e-9)\n",
        "    # Return a torch Tensor shaped (1, 1, L)\n",
        "    t = torch.tensor(wav, dtype=torch.float32).unsqueeze(0).unsqueeze(0)\n",
        "    return t.to(device)"
      ],
      "metadata": {
        "id": "c2yu1k9-elHF"
      },
      "execution_count": 4,
      "outputs": []
    },
    {
      "cell_type": "code",
      "source": [
        "# recursively look for any .pth files under your project folder\n",
        "!find /content/drive/MyDrive/speech_command_adversarial -type f -name '*.pth'\n"
      ],
      "metadata": {
        "colab": {
          "base_uri": "https://localhost:8080/"
        },
        "id": "tDnsERWyfsig",
        "outputId": "5f2daacb-7398-4f92-e5fb-bf5b1e39a5f0"
      },
      "execution_count": 5,
      "outputs": [
        {
          "output_type": "stream",
          "name": "stdout",
          "text": [
            "/content/drive/MyDrive/speech_command_adversarial/fsdd_baseline.pth\n"
          ]
        }
      ]
    },
    {
      "cell_type": "code",
      "source": [
        "ckpt = torch.load('/content/drive/MyDrive/speech_command_adversarial/fsdd_baseline.pth',\n",
        "                  map_location=device)\n",
        "for k,v in ckpt.items():\n",
        "    print(k, v.shape)"
      ],
      "metadata": {
        "colab": {
          "base_uri": "https://localhost:8080/"
        },
        "id": "Ethil7yBqMSC",
        "outputId": "15f10975-654a-4675-bc7d-dd0111a4c20b"
      },
      "execution_count": 6,
      "outputs": [
        {
          "output_type": "stream",
          "name": "stdout",
          "text": [
            "net.0.weight torch.Size([16, 1, 9])\n",
            "net.0.bias torch.Size([16])\n",
            "net.1.weight torch.Size([16])\n",
            "net.1.bias torch.Size([16])\n",
            "net.1.running_mean torch.Size([16])\n",
            "net.1.running_var torch.Size([16])\n",
            "net.1.num_batches_tracked torch.Size([])\n",
            "net.3.weight torch.Size([32, 16, 9])\n",
            "net.3.bias torch.Size([32])\n",
            "net.4.weight torch.Size([32])\n",
            "net.4.bias torch.Size([32])\n",
            "net.4.running_mean torch.Size([32])\n",
            "net.4.running_var torch.Size([32])\n",
            "net.4.num_batches_tracked torch.Size([])\n",
            "net.6.weight torch.Size([64, 32, 9])\n",
            "net.6.bias torch.Size([64])\n",
            "net.7.weight torch.Size([64])\n",
            "net.7.bias torch.Size([64])\n",
            "net.7.running_mean torch.Size([64])\n",
            "net.7.running_var torch.Size([64])\n",
            "net.7.num_batches_tracked torch.Size([])\n",
            "net.12.weight torch.Size([10, 64])\n",
            "net.12.bias torch.Size([10])\n"
          ]
        }
      ]
    },
    {
      "cell_type": "code",
      "source": [
        "# 1) Instatiate your Model\n",
        "model = Conv1DSpeech(n_classes=10).to(device)\n",
        "\n",
        "# 2) Load the file\n",
        "ckpt = torch.load('/content/drive/MyDrive/speech_command_adversarial/fsdd_baseline.pth',\n",
        "                  map_location=device)\n",
        "\n",
        "# 3) Grab your model’s own state dict\n",
        "model_dict = model.state_dict()\n",
        "\n",
        "# 4) Filter out any keys that either\n",
        "#    • don’t exist in your model, or\n",
        "#    • have the wrong size\n",
        "filtered = {\n",
        "    k: v for k,v in ckpt.items()\n",
        "    if k in model_dict and v.shape == model_dict[k].shape\n",
        "}\n",
        "\n",
        "# 5) Overwrite those parts of your model\n",
        "model_dict.update(filtered)\n",
        "\n",
        "# 6) Load & leave the rest randomly initialized\n",
        "model.load_state_dict(model_dict)\n",
        "model.eval() # set to eval mode."
      ],
      "metadata": {
        "colab": {
          "base_uri": "https://localhost:8080/"
        },
        "id": "GTRcf-wTevmO",
        "outputId": "ed28687f-aa0a-476f-d24e-0120d3dff216"
      },
      "execution_count": 7,
      "outputs": [
        {
          "output_type": "execute_result",
          "data": {
            "text/plain": [
              "Conv1DSpeech(\n",
              "  (net): Sequential(\n",
              "    (0): Conv1d(1, 16, kernel_size=(9,), stride=(2,), padding=(4,))\n",
              "    (1): BatchNorm1d(16, eps=1e-05, momentum=0.1, affine=True, track_running_stats=True)\n",
              "    (2): ReLU()\n",
              "    (3): Conv1d(16, 32, kernel_size=(9,), stride=(2,), padding=(4,))\n",
              "    (4): BatchNorm1d(32, eps=1e-05, momentum=0.1, affine=True, track_running_stats=True)\n",
              "    (5): ReLU()\n",
              "    (6): Conv1d(32, 64, kernel_size=(9,), stride=(2,), padding=(4,))\n",
              "    (7): BatchNorm1d(64, eps=1e-05, momentum=0.1, affine=True, track_running_stats=True)\n",
              "    (8): ReLU()\n",
              "    (9): AdaptiveAvgPool1d(output_size=1)\n",
              "    (10): Flatten(start_dim=1, end_dim=-1)\n",
              "    (11): Identity()\n",
              "    (12): Linear(in_features=64, out_features=10, bias=True)\n",
              "  )\n",
              ")"
            ]
          },
          "metadata": {},
          "execution_count": 7
        }
      ]
    },
    {
      "cell_type": "code",
      "source": [
        "model = Conv1DSpeech(n_classes=10).to(device)\n",
        "model.load_state_dict(\n",
        "    torch.load('/content/drive/MyDrive/speech_command_adversarial/fsdd_baseline.pth',\n",
        "               map_location=device)\n",
        ")\n",
        "model.eval()"
      ],
      "metadata": {
        "colab": {
          "base_uri": "https://localhost:8080/"
        },
        "id": "wlFQBG6OrN41",
        "outputId": "f20c4c0f-93ed-49c8-cc83-e271a1209ef1"
      },
      "execution_count": 8,
      "outputs": [
        {
          "output_type": "execute_result",
          "data": {
            "text/plain": [
              "Conv1DSpeech(\n",
              "  (net): Sequential(\n",
              "    (0): Conv1d(1, 16, kernel_size=(9,), stride=(2,), padding=(4,))\n",
              "    (1): BatchNorm1d(16, eps=1e-05, momentum=0.1, affine=True, track_running_stats=True)\n",
              "    (2): ReLU()\n",
              "    (3): Conv1d(16, 32, kernel_size=(9,), stride=(2,), padding=(4,))\n",
              "    (4): BatchNorm1d(32, eps=1e-05, momentum=0.1, affine=True, track_running_stats=True)\n",
              "    (5): ReLU()\n",
              "    (6): Conv1d(32, 64, kernel_size=(9,), stride=(2,), padding=(4,))\n",
              "    (7): BatchNorm1d(64, eps=1e-05, momentum=0.1, affine=True, track_running_stats=True)\n",
              "    (8): ReLU()\n",
              "    (9): AdaptiveAvgPool1d(output_size=1)\n",
              "    (10): Flatten(start_dim=1, end_dim=-1)\n",
              "    (11): Identity()\n",
              "    (12): Linear(in_features=64, out_features=10, bias=True)\n",
              "  )\n",
              ")"
            ]
          },
          "metadata": {},
          "execution_count": 8
        }
      ]
    },
    {
      "cell_type": "code",
      "source": [
        "# Define FSDD Dataset & DataLoader\n",
        "import glob, os\n",
        "import torch\n",
        "from torch.utils.data import Dataset, DataLoader, random_split\n",
        "sys.path.append('/content/drive/MyDrive/speech_command_adversarial/utils')\n",
        "from audio_utils import preprocess_audio\n",
        "\n",
        "class FSDDDataset(Dataset):\n",
        "    def __init__(self, wav_paths, labels, target_sr=8000, duration=1.0):\n",
        "        self.paths  = wav_paths\n",
        "        self.labels = labels\n",
        "        self.target_sr = target_sr\n",
        "        self.duration  = duration\n",
        "\n",
        "    def __len__(self):\n",
        "        return len(self.paths)\n",
        "\n",
        "    def __getitem__(self, idx):\n",
        "        wav_path = self.paths[idx]\n",
        "        wav, sr = librosa.load(wav_path, sr=None)\n",
        "        x = preprocess_audio(wav, sr,\n",
        "                             target_sr=self.target_sr,\n",
        "                             duration=self.duration)\n",
        "        return torch.tensor(x).unsqueeze(0), self.labels[idx]\n",
        "\n",
        "wav_paths = sorted(glob.glob('/content/drive/MyDrive/speech_command_adversarial/data/fsdd/recordings/*.wav'))\n",
        "labels    = [int(os.path.basename(p)[0]) for p in wav_paths]\n",
        "\n",
        "dataset   = FSDDDataset(wav_paths, labels)\n",
        "train_n   = int(0.8 * len(dataset))\n",
        "test_n    = len(dataset) - train_n\n",
        "_, test_ds = random_split(dataset, [train_n, test_n],\n",
        "                          generator=torch.Generator().manual_seed(42))\n",
        "\n",
        "test_loader = DataLoader(test_ds, batch_size=64, shuffle=False)\n",
        "\n",
        "print(f\"Rebuilt test_loader with {len(test_ds)} samples\")"
      ],
      "metadata": {
        "colab": {
          "base_uri": "https://localhost:8080/"
        },
        "id": "1VBwT-9SuKa4",
        "outputId": "26a44956-ddaa-4c6e-a751-a89ddc13af49"
      },
      "execution_count": 9,
      "outputs": [
        {
          "output_type": "stream",
          "name": "stdout",
          "text": [
            "Rebuilt test_loader with 600 samples\n"
          ]
        }
      ]
    },
    {
      "cell_type": "code",
      "source": [
        "# Evaluate clean accuracy\n",
        "model.eval()\n",
        "correct = total = 0\n",
        "with torch.no_grad():\n",
        "    for x, y in test_loader:\n",
        "        x, y = x.to(device), y.to(device)\n",
        "        preds = model(x).argmax(dim=1)\n",
        "        correct += (preds == y).sum().item()\n",
        "        total += y.size(0)\n",
        "print(f\"Clean test accuracy: {correct/total:.3f}\")"
      ],
      "metadata": {
        "colab": {
          "base_uri": "https://localhost:8080/"
        },
        "id": "3tOj343Mti9g",
        "outputId": "2279c519-167c-4433-eb47-9f0238a8e763"
      },
      "execution_count": 40,
      "outputs": [
        {
          "output_type": "stream",
          "name": "stdout",
          "text": [
            "Clean test accuracy: 0.860\n"
          ]
        }
      ]
    },
    {
      "cell_type": "code",
      "source": [
        "# Grab a Batch of Clean Audio\n",
        "x_batch, y_batch = next(iter(test_loader))\n",
        "x_batch = x_batch.to(device)\n",
        "y_batch = y_batch.to(device)"
      ],
      "metadata": {
        "id": "dsGRP41bumXQ"
      },
      "execution_count": 41,
      "outputs": []
    },
    {
      "cell_type": "code",
      "source": [
        "# Attack Implementations\n",
        "import torch.nn as nn\n",
        "\n",
        "# Ensure we have both reduction modes available\n",
        "criterion = nn.CrossEntropyLoss()\n",
        "loss_none = nn.CrossEntropyLoss(reduction='none')\n",
        "\n",
        "def spsa_attack(model, x, y, eps=0.002, alpha=0.001, its=5, samples=16):\n",
        "    \"\"\"\n",
        "    SPSA: approximate gradient via finite differences, per‐sample loss.\n",
        "    \"\"\"\n",
        "    x_adv = x.clone().detach()\n",
        "    B = x_adv.shape[0]\n",
        "\n",
        "    for _ in range(its):\n",
        "        grad = torch.zeros_like(x_adv)\n",
        "        for _ in range(samples):\n",
        "            delta = torch.randn_like(x_adv)\n",
        "            delta = delta / (delta.abs().amax(dim=2, keepdim=True) + 1e-9)\n",
        "\n",
        "            # forward two perturbed versions\n",
        "            logits_p = model(x_adv + eps * delta)\n",
        "            logits_m = model(x_adv - eps * delta)\n",
        "\n",
        "            # per-example losses\n",
        "            loss_p = loss_none(logits_p, y)  # shape: [B]\n",
        "            loss_m = loss_none(logits_m, y)  # shape: [B]\n",
        "\n",
        "            # finite-difference gradient estimate\n",
        "            diff = ((loss_p - loss_m) / (2 * eps)).view(B, 1, 1)\n",
        "            grad += diff * delta\n",
        "\n",
        "        grad /= samples\n",
        "        x_adv = x_adv + alpha * grad.sign()\n",
        "        # project back into the eps-ball around original x\n",
        "        x_adv = torch.max(torch.min(x_adv, x + eps), x - eps).clamp(-1, 1)\n",
        "\n",
        "    return x_adv.detach()\n",
        "\n",
        "\n",
        "def gen_attack(model, x, y, eps=0.002, pop_size=8, gens=5):\n",
        "    \"\"\"\n",
        "    Simple evolutionary: keep top half by loss, mutate others.\n",
        "    \"\"\"\n",
        "    B, C, L = x.shape\n",
        "    population = [x.clone().detach() for _ in range(pop_size)]\n",
        "\n",
        "    with torch.no_grad():\n",
        "        losses = [criterion(model(ind), y).item() for ind in population]\n",
        "\n",
        "    for _ in range(gens):\n",
        "        # generate mutated candidates\n",
        "        candidates = []\n",
        "        for i in range(pop_size):\n",
        "            noise = torch.randn_like(x) * eps\n",
        "            cand  = torch.clamp(population[i] + noise, -1, 1)\n",
        "            candidates.append(cand)\n",
        "\n",
        "        # evaluate losses\n",
        "        with torch.no_grad():\n",
        "            cand_losses = [criterion(model(c), y).item() for c in candidates]\n",
        "\n",
        "        # select top half\n",
        "        survivors_idx = sorted(range(pop_size), key=lambda i: -cand_losses[i])[:pop_size // 2]\n",
        "        survivors = [candidates[i] for i in survivors_idx]\n",
        "\n",
        "        # refill population by repeating survivors\n",
        "        population = survivors + survivors[:pop_size - len(survivors)]\n",
        "\n",
        "    # return the final best\n",
        "    best_idx = max(range(pop_size), key=lambda i: criterion(model(population[i]), y).item())\n",
        "    return population[best_idx].detach()\n",
        "\n",
        "\n",
        "def simba_attack(model, x, y, eps=0.001, its=500):\n",
        "    \"\"\"\n",
        "    SimBA: iterate single-coordinate perturbations using per-sample loss.\n",
        "    \"\"\"\n",
        "    x_adv = x.clone().detach()\n",
        "    B, C, L = x.shape\n",
        "\n",
        "    for _ in range(its):\n",
        "        i = random.randrange(L)\n",
        "        mask = torch.zeros_like(x_adv)\n",
        "        mask[:, :, i] = eps\n",
        "\n",
        "        cand_p = torch.clamp(x_adv + mask, -1, 1)\n",
        "        cand_m = torch.clamp(x_adv - mask, -1, 1)\n",
        "\n",
        "        # use per-sample loss\n",
        "        loss_p = loss_none(model(cand_p), y)  # [B]\n",
        "        loss_m = loss_none(model(cand_m), y)  # [B]\n",
        "\n",
        "        # pick direction that increases loss per-example\n",
        "        choose_p = (loss_p > loss_m).view(B, 1, 1).float()\n",
        "        x_adv = choose_p * cand_p + (1 - choose_p) * cand_m\n",
        "\n",
        "    return x_adv.detach()\n",
        "\n",
        "\n",
        "def spatial_attack(x_tensor, sr=8000, pitch_shift=2.0, stretch=1.1):\n",
        "    \"\"\"\n",
        "    Pitch‐shift + time‐stretch each sample using keyword‐only args.\n",
        "    \"\"\"\n",
        "    X = x_tensor.cpu().numpy()\n",
        "    out = []\n",
        "    for xi in X[:, 0]:\n",
        "        y1 = librosa.effects.pitch_shift(xi, sr=sr, n_steps=pitch_shift)\n",
        "        y2 = librosa.effects.time_stretch(y1, rate=stretch)\n",
        "        if len(y2) < sr:\n",
        "            y2 = np.pad(y2, (0, sr - len(y2)))\n",
        "        else:\n",
        "            y2 = y2[:sr]\n",
        "        out.append(y2)\n",
        "\n",
        "    arr = np.stack(out)      # (B, L)\n",
        "    arr = arr[:, None, :]    # (B, 1, L)\n",
        "    return torch.tensor(arr, device=device, dtype=torch.float32)\n",
        "    return torch.tensor(out, device=device, dtype=torch.float32)\n",
        "\n",
        "\n",
        "def psycho_mask_attack(x_np, sr=8000, snr_db=30):\n",
        "    \"\"\"\n",
        "    NumPy-based Gaussian noise at target SNR.\n",
        "    \"\"\"\n",
        "    X = x_np.cpu().numpy()\n",
        "    out = []\n",
        "    for xi in X[:, 0]:\n",
        "        rms = np.sqrt(np.mean(xi**2))\n",
        "        rms_n = rms / (10 ** (snr_db / 20))\n",
        "        noise = np.random.normal(0, rms_n, size=xi.shape)\n",
        "        out.append(np.clip(xi + noise, -1, 1))\n",
        "    out = np.stack(out)[:, None, :]\n",
        "    return torch.tensor(out, device=device, dtype=torch.float32)\n",
        "\n",
        "\n",
        "def hidden_voice_attack(x_tensor, phrase_path, alpha=0.002, sr=8000):\n",
        "    \"\"\"\n",
        "    Mix a one-second phrase WAV into each sample.\n",
        "    \"\"\"\n",
        "    phr, p_sr = librosa.load(phrase_path, sr=None)\n",
        "    phr_rs = librosa.resample(y=phr, orig_sr=p_sr, target_sr=sr)\n",
        "    if len(phr_rs) < sr:\n",
        "        phr_rs = np.pad(phr_rs, (0, sr - len(phr_rs)))\n",
        "    else:\n",
        "        phr_rs = phr_rs[:sr]\n",
        "    phr_rs = phr_rs / (np.max(np.abs(phr_rs)) + 1e-9)\n",
        "\n",
        "    X = x_tensor.cpu().numpy()\n",
        "    out = []\n",
        "    for xi in X[:, 0]:\n",
        "        mix = np.clip(xi + alpha * phr_rs, -1, 1)\n",
        "        out.append(mix)\n",
        "    arr = np.stack(out)[:, None, :]\n",
        "    return torch.tensor(arr, dtype=torch.float32, device=device)"
      ],
      "metadata": {
        "id": "dxU10EPCu2Ui"
      },
      "execution_count": 42,
      "outputs": []
    },
    {
      "cell_type": "code",
      "source": [
        "# Narrow down to just 8 examples for all attacks\n",
        "attack_batch_size = 8\n",
        "x_adv_in, y_adv_in = x_batch[:attack_batch_size], y_batch[:attack_batch_size]\n",
        "\n",
        "# Clear any leftover GPU garbage\n",
        "import gc\n",
        "torch.cuda.empty_cache()\n",
        "gc.collect()"
      ],
      "metadata": {
        "colab": {
          "base_uri": "https://localhost:8080/"
        },
        "id": "66Z5YIwDGHht",
        "outputId": "0e186db5-b5ae-4b53-c73e-ce20fa33bbbd"
      },
      "execution_count": 43,
      "outputs": [
        {
          "output_type": "execute_result",
          "data": {
            "text/plain": [
              "13"
            ]
          },
          "metadata": {},
          "execution_count": 43
        }
      ]
    },
    {
      "cell_type": "code",
      "source": [
        "# Generate Adversarial Batches\n",
        "# SPSA\n",
        "x_spsa  = spsa_attack(model, x_adv_in, y_adv_in, its=3, samples=8)\n",
        "\n",
        "# GenAttack\n",
        "x_gen   = gen_attack(model, x_adv_in, y_adv_in, eps=0.002, pop_size=8, gens=3)\n",
        "\n",
        "# SimBA\n",
        "x_simba = simba_attack(model, x_adv_in, y_adv_in, eps=0.001, its=200)\n",
        "\n",
        "# Spatial transform\n",
        "x_spat = spatial_attack(x_adv_in, sr=8000, pitch_shift=2.0, stretch=1.1)\n",
        "\n",
        "# Psychoacoustic masking\n",
        "x_mask = psycho_mask_attack(x_adv_in, sr=8000, snr_db=30)\n",
        "\n",
        "# Hidden-voice attack\n",
        "# Pick a phrase from your recordings folder\n",
        "phrase_file = sorted(glob.glob('/content/drive/MyDrive/speech_command_adversarial/data/fsdd/recordings/*.wav'))[0]\n",
        "x_hide = hidden_voice_attack(x_adv_in, phrase_file, alpha=0.002, sr=8000)"
      ],
      "metadata": {
        "id": "vXxNO2vYvRwa"
      },
      "execution_count": 44,
      "outputs": []
    },
    {
      "cell_type": "code",
      "source": [
        "# Check shapes\n",
        "print(\"x_adv_in:\", x_adv_in.shape)\n",
        "print(\"x_spsa:  \", x_spsa.shape)\n",
        "print(\"x_gen:   \", x_gen.shape)\n",
        "print(\"x_simba:\", x_simba.shape)\n",
        "print(\"x_spat:  \", x_spat.shape)\n",
        "print(\"x_mask:  \", x_mask.shape)\n",
        "print(\"x_hide:  \", x_hide.shape)"
      ],
      "metadata": {
        "colab": {
          "base_uri": "https://localhost:8080/"
        },
        "id": "ChQU6asrKKiw",
        "outputId": "d8b49038-7b3c-4f3e-f0c2-5ca0c301d15b"
      },
      "execution_count": 45,
      "outputs": [
        {
          "output_type": "stream",
          "name": "stdout",
          "text": [
            "x_adv_in: torch.Size([8, 1, 8000])\n",
            "x_spsa:   torch.Size([8, 1, 8000])\n",
            "x_gen:    torch.Size([8, 1, 8000])\n",
            "x_simba: torch.Size([8, 1, 8000])\n",
            "x_spat:   torch.Size([8, 1, 8000])\n",
            "x_mask:   torch.Size([8, 1, 8000])\n",
            "x_hide:   torch.Size([8, 1, 8000])\n"
          ]
        }
      ]
    },
    {
      "cell_type": "code",
      "source": [
        "#Evaluate Adversarial Accuracy\n",
        "def eval_batch(model, x_adv, y_true, device='cuda'):\n",
        "    model.to(device).eval()\n",
        "    with torch.no_grad():\n",
        "        preds = model(x_adv.to(device)).argmax(dim=1)\n",
        "    return (preds == y_true.to(device)).float().mean().item()\n",
        "\n",
        "print(f\"Clean    acc: {eval_batch(model, x_adv_in, y_adv_in):.3f}\")\n",
        "print(f\"SPSA     acc: {eval_batch(model, x_spsa,     y_adv_in):.3f}\")\n",
        "print(f\"GenAttack acc: {eval_batch(model, x_gen,      y_adv_in):.3f}\")\n",
        "print(f\"SimBA    acc: {eval_batch(model, x_simba,    y_adv_in):.3f}\")\n",
        "print(f\"Spatial  acc: {eval_batch(model, x_spat,     y_adv_in):.3f}\")\n",
        "print(f\"Psycho   acc: {eval_batch(model, x_mask,     y_adv_in):.3f}\")\n",
        "print(f\"Hidden   acc: {eval_batch(model, x_hide,     y_adv_in):.3f}\")"
      ],
      "metadata": {
        "colab": {
          "base_uri": "https://localhost:8080/"
        },
        "id": "qO-IKyGiBT1g",
        "outputId": "22070677-0de6-4dbe-c856-e9e2364166af"
      },
      "execution_count": 46,
      "outputs": [
        {
          "output_type": "stream",
          "name": "stdout",
          "text": [
            "Clean    acc: 1.000\n",
            "SPSA     acc: 0.875\n",
            "GenAttack acc: 0.375\n",
            "SimBA    acc: 1.000\n",
            "Spatial  acc: 0.750\n",
            "Psycho   acc: 0.500\n",
            "Hidden   acc: 1.000\n"
          ]
        }
      ]
    },
    {
      "cell_type": "code",
      "source": [
        "import numpy as np\n",
        "import matplotlib.pyplot as plt"
      ],
      "metadata": {
        "id": "sUiDHN6AKkvN"
      },
      "execution_count": 47,
      "outputs": []
    },
    {
      "cell_type": "code",
      "source": [
        "# Helper to compute per-sample SNR\n",
        "def compute_snr_batch(x_orig, x_adv):\n",
        "    x_orig_np = x_orig.cpu().numpy().reshape(x_orig.shape[0], -1)\n",
        "    x_adv_np  = x_adv.cpu().numpy().reshape(x_adv.shape[0], -1)\n",
        "    snrs = []\n",
        "    for xo, xa in zip(x_orig_np, x_adv_np):\n",
        "        noise = xa - xo\n",
        "        snr = 10 * np.log10(np.sum(xo**2) / (np.sum(noise**2) + 1e-12))\n",
        "        snrs.append(snr)\n",
        "    return np.array(snrs)"
      ],
      "metadata": {
        "id": "puorTREBKrlT"
      },
      "execution_count": 48,
      "outputs": []
    },
    {
      "cell_type": "code",
      "source": [
        "# Compute mean SNR for each attack\n",
        "snr_clean  = compute_snr_batch(x_adv_in, x_adv_in).mean()\n",
        "snr_spsa   = compute_snr_batch(x_adv_in, x_spsa).mean()\n",
        "snr_gen    = compute_snr_batch(x_adv_in, x_gen).mean()\n",
        "snr_simba  = compute_snr_batch(x_adv_in, x_simba).mean()\n",
        "snr_spat   = compute_snr_batch(x_adv_in, x_spat).mean()\n",
        "snr_psycho = compute_snr_batch(x_adv_in, x_mask).mean()\n",
        "snr_hide   = compute_snr_batch(x_adv_in, x_hide).mean()"
      ],
      "metadata": {
        "id": "3hQBW3FuKwqq"
      },
      "execution_count": 49,
      "outputs": []
    },
    {
      "cell_type": "code",
      "source": [
        "# Aggregate results\n",
        "attack_names = [\n",
        "    \"Clean\", \"SPSA\", \"GenAttack\",\n",
        "    \"SimBA\", \"Spatial\", \"PsychoMask\", \"HiddenVoice\"\n",
        "]\n",
        "accuracies = [\n",
        "    eval_batch(model, x_adv_in, y_adv_in),\n",
        "    eval_batch(model, x_spsa,   y_adv_in),\n",
        "    eval_batch(model, x_gen,    y_adv_in),\n",
        "    eval_batch(model, x_simba,  y_adv_in),\n",
        "    eval_batch(model, x_spat,   y_adv_in),\n",
        "    eval_batch(model, x_mask,   y_adv_in),\n",
        "    eval_batch(model, x_hide,   y_adv_in),\n",
        "]\n",
        "snr_means = [\n",
        "    snr_clean, snr_spsa, snr_gen,\n",
        "    snr_simba, snr_spat, snr_psycho, snr_hide\n",
        "]"
      ],
      "metadata": {
        "id": "lnR0Kpp8K03F"
      },
      "execution_count": 50,
      "outputs": []
    },
    {
      "cell_type": "code",
      "source": [
        "# Print a markdown table\n",
        "print(\"| Attack       | Accuracy | Mean SNR (dB) |\")\n",
        "print(\"|-------------:|---------:|--------------:|\")\n",
        "for name, acc, snr in zip(attack_names, accuracies, snr_means):\n",
        "    print(f\"| {name:12} | {acc:8.3f} | {snr:13.2f} |\")"
      ],
      "metadata": {
        "colab": {
          "base_uri": "https://localhost:8080/"
        },
        "id": "HRwzR78LK4NA",
        "outputId": "764bf9fd-0aff-461a-81e1-26875a237740"
      },
      "execution_count": 51,
      "outputs": [
        {
          "output_type": "stream",
          "name": "stdout",
          "text": [
            "| Attack       | Accuracy | Mean SNR (dB) |\n",
            "|-------------:|---------:|--------------:|\n",
            "| Clean        |    1.000 |        138.03 |\n",
            "| SPSA         |    0.875 |         36.58 |\n",
            "| GenAttack    |    0.375 |         28.25 |\n",
            "| SimBA        |    1.000 |         55.02 |\n",
            "| Spatial      |    0.750 |         -1.62 |\n",
            "| PsychoMask   |    0.500 |         30.02 |\n",
            "| HiddenVoice  |    1.000 |         49.26 |\n"
          ]
        }
      ]
    },
    {
      "cell_type": "code",
      "source": [
        "# Plot Accuracy vs. SNR\n",
        "plt.figure(figsize=(6,4))\n",
        "plt.scatter(snr_means[1:], accuracies[1:], marker='o')  # skip Clean\n",
        "for i in range(1, len(attack_names)):\n",
        "    plt.text(snr_means[i], accuracies[i], attack_names[i])\n",
        "plt.xlabel(\"Mean SNR (dB)\")\n",
        "plt.ylabel(\"Top-1 Accuracy\")\n",
        "plt.title(\"Attack Stealth vs. Success\")\n",
        "plt.grid(True)\n",
        "plt.show()"
      ],
      "metadata": {
        "colab": {
          "base_uri": "https://localhost:8080/",
          "height": 410
        },
        "id": "lcHNaB1cK7TL",
        "outputId": "3b2c2b5a-3e2c-4988-e6e0-c9a97c0d238e"
      },
      "execution_count": 52,
      "outputs": [
        {
          "output_type": "display_data",
          "data": {
            "text/plain": [
              "<Figure size 600x400 with 1 Axes>"
            ],
            "image/png": "[encoded data removed]"
          },
          "metadata": {}
        }
      ]
    }
  ]
}