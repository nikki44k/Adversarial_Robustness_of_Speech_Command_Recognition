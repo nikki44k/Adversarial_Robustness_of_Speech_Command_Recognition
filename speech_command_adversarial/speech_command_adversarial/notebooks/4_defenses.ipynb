{
  "nbformat": 4,
  "nbformat_minor": 0,
  "metadata": {
    "colab": {
      "provenance": []
    },
    "kernelspec": {
      "name": "python3",
      "display_name": "Python 3"
    },
    "language_info": {
      "name": "python"
    }
  },
  "cells": [
    {
      "cell_type": "markdown",
      "source": [
        "# This notebook implements and evaluates **three defenses against the adversarial attacks** we generated in 3_attacks.ipynb, using the same Free Spoken Digit Dataset (FSDD) and 1D-CNN baseline."
      ],
      "metadata": {
        "id": "BMy6tquD4tXJ"
      }
    },
    {
      "cell_type": "markdown",
      "source": [
        "**Environment & Data Setup**\n",
        "*   Installs required libraries (torch, librosa, numpy, matplotlib) and imports key modules.\n",
        "*   Defines the FSDDDataset, resampling each clip to 8 kHz, trimming/padding to 1 s, and normalizing.\n",
        "*  Splits the recordings into 80% train / 20% test sets and builds DataLoaders.\n",
        "\n",
        "**Load Baseline Model & Clean Accuracy**\n",
        "* Loads the pretrained “teacher” model checkpoint (fsdd_baseline.pth) with n_classes=10.\n",
        "* Evaluates and prints its clean (non-adversarial) test accuracy (~ 0.86).\n",
        "\n",
        "**Randomized Smoothing**\n",
        "* Wraps the teacher in a Gaussian‐noise ensemble: for each input batch, adds noise (σ ∈ {0.001, 0.002, 0.004}), queries the model 10 times, and takes the majority vote.\n",
        "* Reports accuracy at each σ, demonstrating certified robustness trends (e.g. slight gain at σ = 0.001, graceful degradation by σ = 0.004).\n",
        "\n",
        "**Feature Squeeze**\n",
        "* Implements audio quantization to bit-depths of 2, 4, and 8 bits by uniform rounding in [–1, 1].\n",
        "* Measures the model’s accuracy on these aggressively compressed waveforms, showing that 8-bit smoothing preserves high accuracy (~ 0.79) while very low bit-depths collapse performance.\n",
        "\n",
        "**Defensive Distillation**\n",
        "* Trains a student model using the teacher’s soft labels at temperature T=20.\n",
        "* Runs 5 epochs of KL-divergence loss on teacher-generated probabilities, then evaluates the distilled student’s clean accuracy (~ 0.47).\n",
        "\n",
        "**Summary Plot**\n",
        "* Combines the three defense families into a single bar chart:\n",
        "  * Blue bars for randomized smoothing at σ thresholds\n",
        "  * Orange bars for feature-squeeze at various bit-depths\n",
        "  * Green bar for the distilled student’s accuracy\n",
        "* Visually contrasts which defenses best trade off clean accuracy for robustness."
      ],
      "metadata": {
        "id": "gzrHtMSg47_K"
      }
    },
    {
      "cell_type": "markdown",
      "source": [
        "**Key Takeaways**\n",
        "\n",
        "* **Randomized smoothing** with small σ can slightly improve accuracy against noisy inputs, but large noise budgets degrade performance.\n",
        "\n",
        "* **Feature squeeze** is highly effective at moderate quantization (8-bit) but fails under aggressive bit-depth reduction.\n",
        "\n",
        "* **Defensive distillation** yields only modest clean accuracy and would need further tuning (more epochs, better architecture) to match baseline."
      ],
      "metadata": {
        "id": "8MliimGF6LzM"
      }
    },
    {
      "cell_type": "code",
      "source": [
        "# Installs & Imports\n",
        "!pip install --quiet torch librosa numpy matplotlib"
      ],
      "metadata": {
        "id": "rle3v7Mayp6G"
      },
      "execution_count": 1,
      "outputs": []
    },
    {
      "cell_type": "code",
      "execution_count": 2,
      "metadata": {
        "id": "MsVbkaBYyZE6"
      },
      "outputs": [],
      "source": [
        "import os, glob, sys\n",
        "import numpy as np\n",
        "import librosa\n",
        "import matplotlib.pyplot as plt\n",
        "\n",
        "import torch\n",
        "import torch.nn as nn\n",
        "import torch.optim as optim\n",
        "from torch.utils.data import Dataset, DataLoader, random_split\n",
        "\n",
        "sys.path.append('/content/drive/MyDrive/speech_command_adversarial')\n",
        "from models import Conv1DSpeech"
      ]
    },
    {
      "cell_type": "code",
      "source": [
        "#Dataset & DataLoaders\n",
        "# FSDD Dataset class\n",
        "class FSDDDataset(Dataset):\n",
        "    def __init__(self, wav_paths, labels, target_sr=8000, duration=1.0):\n",
        "        self.paths     = wav_paths\n",
        "        self.labels    = labels\n",
        "        self.target_sr = target_sr\n",
        "        self.duration  = duration\n",
        "\n",
        "    def __len__(self):\n",
        "        return len(self.paths)\n",
        "\n",
        "    def __getitem__(self, idx):\n",
        "        wav, sr = librosa.load(self.paths[idx], sr=None)\n",
        "        # resample & pad/trim using keyword args\n",
        "        wav_rs = librosa.resample(y=wav, orig_sr=sr, target_sr=self.target_sr)\n",
        "        L = int(self.target_sr * self.duration)\n",
        "        if len(wav_rs) < L:\n",
        "            wav_rs = np.pad(wav_rs, (0, L - len(wav_rs)))\n",
        "        else:\n",
        "            wav_rs = wav_rs[:L]\n",
        "        # normalize\n",
        "        wav_rs = wav_rs / (np.max(np.abs(wav_rs)) + 1e-9)\n",
        "        # return (1, L) tensor and label\n",
        "        return torch.tensor(wav_rs, dtype=torch.float32).unsqueeze(0), self.labels[idx]"
      ],
      "metadata": {
        "id": "ZeqfXKaAy5rn"
      },
      "execution_count": 3,
      "outputs": []
    },
    {
      "cell_type": "code",
      "source": [
        "# Gather file paths & labels\n",
        "wav_paths = sorted(glob.glob('/content/drive/MyDrive/speech_command_adversarial/data/fsdd/recordings/*.wav'))\n",
        "labels    = [int(os.path.basename(p)[0]) for p in wav_paths]\n",
        "\n",
        "# Split into train/test (80/20)\n",
        "dataset  = FSDDDataset(wav_paths, labels)\n",
        "n_train  = int(0.8 * len(dataset))\n",
        "n_test   = len(dataset) - n_train\n",
        "train_ds, test_ds = random_split(dataset, [n_train, n_test],\n",
        "                                 generator=torch.Generator().manual_seed(42))\n",
        "\n",
        "train_loader = DataLoader(train_ds, batch_size=64, shuffle=True)\n",
        "test_loader  = DataLoader(test_ds,  batch_size=64, shuffle=False)\n",
        "\n",
        "print(f\"Train samples: {len(train_ds)}, Test samples: {len(test_ds)}\")"
      ],
      "metadata": {
        "colab": {
          "base_uri": "https://localhost:8080/"
        },
        "id": "ygHxBxr5zWeW",
        "outputId": "312cd548-6835-44d8-c290-60af70990fa9"
      },
      "execution_count": 4,
      "outputs": [
        {
          "output_type": "stream",
          "name": "stdout",
          "text": [
            "Train samples: 2400, Test samples: 600\n"
          ]
        }
      ]
    },
    {
      "cell_type": "code",
      "source": [
        "# Load Baseline Model\n",
        "device = 'cuda' if torch.cuda.is_available() else 'cpu'\n",
        "\n",
        "# Instantiate & load checkpoint\n",
        "teacher = Conv1DSpeech(n_classes=10).to(device)\n",
        "teacher.load_state_dict(\n",
        "    torch.load('/content/drive/MyDrive/speech_command_adversarial/fsdd_baseline.pth', map_location=device)\n",
        ")\n",
        "teacher.eval()  # freeze for inference\n",
        "\n",
        "# Also reuse teacher as \"clean\" reference\n",
        "def eval_clean(model, loader):\n",
        "    model.eval()\n",
        "    correct = total = 0\n",
        "    with torch.no_grad():\n",
        "        for x,y in loader:\n",
        "            x,y = x.to(device), y.to(device)\n",
        "            pred = model(x).argmax(dim=1)\n",
        "            correct += (pred==y).sum().item()\n",
        "            total   += y.size(0)\n",
        "    return correct/total\n",
        "\n",
        "print(\"Clean test accuracy:\", eval_clean(teacher, test_loader))"
      ],
      "metadata": {
        "colab": {
          "base_uri": "https://localhost:8080/"
        },
        "id": "_QdwiDc2zfxP",
        "outputId": "e60bb46b-5cb0-43cc-e09f-58dfad268d27"
      },
      "execution_count": 5,
      "outputs": [
        {
          "output_type": "stream",
          "name": "stdout",
          "text": [
            "Clean test accuracy: 0.86\n"
          ]
        }
      ]
    },
    {
      "cell_type": "code",
      "source": [
        "# Randomized Smoothing\n",
        "import random\n",
        "from collections import Counter\n",
        "\n",
        "def smooth_accuracy(model, loader, sigma=0.002, n_samples=10):\n",
        "    \"\"\"Gaussian smoothing: majority‐vote over n_samples noisy copies.\"\"\"\n",
        "    model.eval()\n",
        "    correct = total = 0\n",
        "    for x,y in loader:\n",
        "        x, y = x.to(device), y.to(device)\n",
        "        batch_size = x.size(0)\n",
        "        # for each sample, collect votes\n",
        "        votes = [ [] for _ in range(batch_size) ]\n",
        "        with torch.no_grad():\n",
        "            for _ in range(n_samples):\n",
        "                noise = torch.randn_like(x) * sigma\n",
        "                preds = model((x + noise).clamp(-1,1)).argmax(dim=1)\n",
        "                for i, p in enumerate(preds):\n",
        "                    votes[i].append(int(p))\n",
        "        # majority vote\n",
        "        maj_pred = torch.tensor([Counter(v).most_common(1)[0][0]\n",
        "                                  for v in votes], device=device)\n",
        "        correct += (maj_pred == y).sum().item()\n",
        "        total   += batch_size\n",
        "    return correct/total\n",
        "\n",
        "# Evaluate smoothing at different sigma budgets\n",
        "sigmas = [0.001, 0.002, 0.004]\n",
        "smooth_accs = []\n",
        "for s in sigmas:\n",
        "    acc = smooth_accuracy(teacher, test_loader, sigma=s, n_samples=10)\n",
        "    smooth_accs.append(acc)\n",
        "    print(f\"Smooth σ={s:.3f} → acc={acc:.3f}\")"
      ],
      "metadata": {
        "colab": {
          "base_uri": "https://localhost:8080/"
        },
        "id": "k7Uvo9pEzqZo",
        "outputId": "38a7f5b4-32a1-4731-e281-c54181bbb1a8"
      },
      "execution_count": 6,
      "outputs": [
        {
          "output_type": "stream",
          "name": "stdout",
          "text": [
            "Smooth σ=0.001 → acc=0.877\n",
            "Smooth σ=0.002 → acc=0.857\n",
            "Smooth σ=0.004 → acc=0.622\n"
          ]
        }
      ]
    },
    {
      "cell_type": "code",
      "source": [
        "# Feature Squeeze\n",
        "def squeeze_audio(x, bit_depth=8):\n",
        "    \"\"\"\n",
        "    x: torch.Tensor (B,1,L) with values in [-1,1]\n",
        "    Returns quantized tensor same shape.\n",
        "    \"\"\"\n",
        "    levels = 2**bit_depth\n",
        "    # scale to [0,levels-1]\n",
        "    x_scaled = ( (x + 1) / 2 ) * (levels - 1)\n",
        "    x_q = torch.round(x_scaled) / (levels - 1)  # back to [0,1]\n",
        "    return x_q * 2 - 1  # to [-1,1]\n",
        "\n",
        "def squeeze_accuracy(model, loader, bit_depth=8):\n",
        "    model.eval()\n",
        "    correct = total = 0\n",
        "    with torch.no_grad():\n",
        "        for x,y in loader:\n",
        "            x,y = x.to(device), y.to(device)\n",
        "            xq = squeeze_audio(x, bit_depth=bit_depth)\n",
        "            pred = model(xq).argmax(dim=1)\n",
        "            correct += (pred==y).sum().item()\n",
        "            total   += y.size(0)\n",
        "    return correct/total\n",
        "\n",
        "# Evaluate for a few bit‐depths\n",
        "depths = [2, 4, 8]\n",
        "squeeze_accs = []\n",
        "for d in depths:\n",
        "    acc = squeeze_accuracy(teacher, test_loader, bit_depth=d)\n",
        "    squeeze_accs.append(acc)\n",
        "    print(f\"Feature‐squeeze {d}‐bit → acc={acc:.3f}\")"
      ],
      "metadata": {
        "colab": {
          "base_uri": "https://localhost:8080/"
        },
        "id": "AfPaM2gV0gYE",
        "outputId": "085ad1e9-8b86-42d9-f893-035dcbdccfc1"
      },
      "execution_count": 7,
      "outputs": [
        {
          "output_type": "stream",
          "name": "stdout",
          "text": [
            "Feature‐squeeze 2‐bit → acc=0.122\n",
            "Feature‐squeeze 4‐bit → acc=0.177\n",
            "Feature‐squeeze 8‐bit → acc=0.787\n"
          ]
        }
      ]
    },
    {
      "cell_type": "code",
      "source": [
        "# Defensive Distillation\n",
        "# Teacher is frozen. Now train a student with soft labels.\n",
        "T = 20                    # temperature\n",
        "epochs = 5                # distillation epochs\n",
        "student = Conv1DSpeech(n_classes=10).to(device)\n",
        "opt_s = optim.Adam(student.parameters(), lr=1e-3)\n",
        "kl   = nn.KLDivLoss(reduction='batchmean')\n",
        "softmax = nn.Softmax(dim=1)\n",
        "\n",
        "# Distillation training loop\n",
        "teacher.eval()\n",
        "student.train()\n",
        "for epoch in range(1, epochs+1):\n",
        "    total_loss = 0\n",
        "    for x,y in train_loader:\n",
        "        x = x.to(device)\n",
        "        # teacher soft targets\n",
        "        with torch.no_grad():\n",
        "            t_logits = teacher(x) / T\n",
        "            t_probs  = softmax(t_logits)\n",
        "        # student predictions\n",
        "        s_logits = student(x) / T\n",
        "        loss = kl(nn.LogSoftmax(dim=1)(s_logits), t_probs) * (T**2)\n",
        "        opt_s.zero_grad()\n",
        "        loss.backward()\n",
        "        opt_s.step()\n",
        "        total_loss += loss.item()\n",
        "    print(f\"Epoch {epoch}/{epochs}, distill loss: {total_loss/len(train_loader):.4f}\")\n",
        "\n",
        "# Evaluate student\n",
        "student_acc = eval_clean(student, test_loader)\n",
        "print(f\"Student clean accuracy: {student_acc:.3f}\")"
      ],
      "metadata": {
        "colab": {
          "base_uri": "https://localhost:8080/"
        },
        "id": "xTr9AMBi0nnw",
        "outputId": "91106fc3-f6fe-4f3f-eef1-16baa3d43834"
      },
      "execution_count": 8,
      "outputs": [
        {
          "output_type": "stream",
          "name": "stdout",
          "text": [
            "Epoch 1/5, distill loss: 1.6634\n",
            "Epoch 2/5, distill loss: 1.0756\n",
            "Epoch 3/5, distill loss: 0.7371\n",
            "Epoch 4/5, distill loss: 0.4976\n",
            "Epoch 5/5, distill loss: 0.3315\n",
            "Student clean accuracy: 0.348\n"
          ]
        }
      ]
    },
    {
      "cell_type": "code",
      "source": [
        "# plot\n",
        "labels = [f\"σ={s}\" for s in sigmas] + [f\"{d}-bit\" for d in depths] + [\"Student\"]\n",
        "values = smooth_accs + squeeze_accs + [student_acc]\n",
        "colors = [\"C0\"]*len(sigmas) + [\"C1\"]*len(depths) + [\"C2\"]\n",
        "\n",
        "plt.figure(figsize=(8,4))\n",
        "plt.bar(labels, values, color=colors)\n",
        "plt.ylim(0,1)\n",
        "plt.ylabel(\"Accuracy\")\n",
        "plt.title(\"Defenses: Randomized‐Smoothing vs. Feature‐Squeeze vs. Distillation\")\n",
        "plt.grid(axis='y', alpha=0.3)\n",
        "plt.show()"
      ],
      "metadata": {
        "colab": {
          "base_uri": "https://localhost:8080/",
          "height": 391
        },
        "id": "u1oGvgpu0vXo",
        "outputId": "cd96c9a9-b21b-400d-e029-797287bdf6db"
      },
      "execution_count": 9,
      "outputs": [
        {
          "output_type": "display_data",
          "data": {
            "text/plain": [
              "<Figure size 800x400 with 1 Axes>"
            ],
            "image/png": "[encoded data removed]"
          },
          "metadata": {}
        }
      ]
    }
  ]
}