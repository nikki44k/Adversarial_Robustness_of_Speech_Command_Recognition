{
  "nbformat": 4,
  "nbformat_minor": 0,
  "metadata": {
    "colab": {
      "provenance": []
    },
    "kernelspec": {
      "name": "python3",
      "display_name": "Python 3"
    },
    "language_info": {
      "name": "python"
    }
  },
  "cells": [
    {
      "cell_type": "markdown",
      "source": [
        "# This notebook handles **loading and inspecting the Free Spoken Digit Dataset (FSDD) WAV files and demonstrates our audio preprocessing pipeline.**"
      ],
      "metadata": {
        "id": "2K5nSXhLAXF5"
      }
    },
    {
      "cell_type": "code",
      "source": [
        "from google.colab import drive\n",
        "drive.mount('/content/drive')"
      ],
      "metadata": {
        "colab": {
          "base_uri": "https://localhost:8080/"
        },
        "id": "ZqDTEgi6s7Ub",
        "outputId": "1ec28873-e965-4d48-87b5-7b78bad2992d"
      },
      "execution_count": 3,
      "outputs": [
        {
          "output_type": "stream",
          "name": "stdout",
          "text": [
            "Mounted at /content/drive\n"
          ]
        }
      ]
    },
    {
      "cell_type": "code",
      "source": [
        "!pip install librosa numpy matplotlib --quiet"
      ],
      "metadata": {
        "id": "ZJH-8In8s4__"
      },
      "execution_count": 2,
      "outputs": []
    },
    {
      "cell_type": "code",
      "execution_count": 6,
      "metadata": {
        "id": "0L5IT2u4sxR-"
      },
      "outputs": [],
      "source": [
        "# Installs & imports\n",
        "import os, glob\n",
        "import librosa, numpy as np\n",
        "import matplotlib.pyplot as plt\n",
        "import sys\n",
        "sys.path.append(os.path.join(os.getcwd(), '/content/drive/MyDrive/speech_command_adversarial/utils'))\n",
        "from audio_utils import load_audio, preprocess_audio"
      ]
    },
    {
      "cell_type": "code",
      "source": [
        "# collect all file paths & labels\n",
        "wav_paths = sorted(glob.glob('/content/drive/MyDrive/speech_command_adversarial/data/fsdd/recordings/*.wav'))\n",
        "# filenames like \"7_nicolas_45.wav\" → label = first character\n",
        "labels = [int(os.path.basename(p)[0]) for p in wav_paths]"
      ],
      "metadata": {
        "id": "3Ai0lcMPuYHd"
      },
      "execution_count": 7,
      "outputs": []
    },
    {
      "cell_type": "code",
      "source": [
        "print(\"Total samples:\", len(wav_paths))\n",
        "print(\"Classes:\", sorted(set(labels)))"
      ],
      "metadata": {
        "colab": {
          "base_uri": "https://localhost:8080/"
        },
        "id": "yHgaDLEHuv5H",
        "outputId": "9b36852b-5040-4d17-a7c4-82c5832cfdd4"
      },
      "execution_count": 8,
      "outputs": [
        {
          "output_type": "stream",
          "name": "stdout",
          "text": [
            "Total samples: 3000\n",
            "Classes: [0, 1, 2, 3, 4, 5, 6, 7, 8, 9]\n"
          ]
        }
      ]
    },
    {
      "cell_type": "markdown",
      "source": [
        "* load_audio(path, sr=None) for reading WAV files with librosa.\n",
        "\n",
        "* preprocess_audio(wav, orig_sr, target_sr, duration) for resampling, trimming/padding to exactly 1 s, and normalizing."
      ],
      "metadata": {
        "id": "HP8Pz81eAxN4"
      }
    },
    {
      "cell_type": "markdown",
      "source": [
        "Prints the shape of the processed waveform ((8000,)) and plots it using matplotlib, labeled by its digit."
      ],
      "metadata": {
        "id": "ffyu-XPxA8GE"
      }
    },
    {
      "cell_type": "code",
      "source": [
        "# preprocess & visualize one example\n",
        "wav, sr = load_audio(wav_paths[0], sr=None)\n",
        "x = preprocess_audio(wav, sr, target_sr=8000, duration=1.0)\n",
        "print(\"Preprocessed shape:\", x.shape)  # (8000,)\n",
        "plt.plot(x); plt.title(f\"Digit {labels[0]}\"); plt.show()"
      ],
      "metadata": {
        "colab": {
          "base_uri": "https://localhost:8080/",
          "height": 469
        },
        "id": "uanUz5akuyyc",
        "outputId": "1f043317-acdf-4912-9bb5-f16827d895f7"
      },
      "execution_count": 9,
      "outputs": [
        {
          "output_type": "stream",
          "name": "stdout",
          "text": [
            "Preprocessed shape: (8000,)\n"
          ]
        },
        {
          "output_type": "display_data",
          "data": {
            "text/plain": [
              "<Figure size 640x480 with 1 Axes>"
            ],
            "image/png": "[encoded data removed]"
          },
          "metadata": {}
        }
      ]
    }
  ]
}